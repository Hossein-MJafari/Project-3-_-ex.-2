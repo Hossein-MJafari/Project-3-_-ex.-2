{
 "cells": [
  {
   "cell_type": "code",
   "execution_count": 8,
   "metadata": {},
   "outputs": [
    {
     "name": "stdout",
     "output_type": "stream",
     "text": [
      "The problem is infeasible. (HiGHS Status 8: model_status is Infeasible; primal_status is At lower/fixed bound)\n"
     ]
    }
   ],
   "source": [
    "import numpy as np\n",
    "from scipy.optimize import linprog\n",
    "\n",
    "# Define the data\n",
    "profit = [10, 20, 15]\n",
    "machine1 = [2, 4, 3]\n",
    "machine2 = [3, 2, 4]\n",
    "max_machine_time = [100, 120]\n",
    "labor = [3, 2, 4]\n",
    "max_labor = [100, 80]\n",
    "storage = [2, 3, 1]\n",
    "max_storage = [100, 80]\n",
    "demand = [[50, 40, 60], [60, 50, 40]]\n",
    "\n",
    "# Number of products\n",
    "n_products = len(profit)\n",
    "\n",
    "# Number of machines\n",
    "n_machines = len(max_machine_time)\n",
    "\n",
    "# Number of periods\n",
    "n_periods = len(max_labor)\n",
    "\n",
    "# Objective function\n",
    "c = -1 * np.array(profit * n_periods)\n",
    "\n",
    "# Machine capacity constraints matrix\n",
    "A_machine = np.zeros((n_machines * n_periods, n_products * n_periods))\n",
    "for i in range(n_machines):\n",
    "    for j in range(n_periods):\n",
    "        A_machine[i * n_periods + j, j * n_products:(j + 1) * n_products] = [machine1[i], machine2[i], 0]\n",
    "\n",
    "# Machine capacity constraints RHS vector\n",
    "b_machine = np.array(max_machine_time * n_periods)\n",
    "\n",
    "# Labor constraints matrix\n",
    "A_labor = np.zeros((n_periods, n_products * n_periods))\n",
    "for i in range(n_periods):\n",
    "    A_labor[i, i * n_products:(i + 1) * n_products] = labor\n",
    "\n",
    "# Labor constraints RHS vector\n",
    "b_labor = np.array(max_labor)\n",
    "\n",
    "# Storage constraints matrix\n",
    "A_storage = np.zeros((n_periods - 1, n_products * n_periods))\n",
    "for i in range(n_periods - 1):\n",
    "    A_storage[i, i * n_products:(i + 2) * n_products] = storage + [-1 * s for s in storage]\n",
    "\n",
    "# Storage constraints RHS vector\n",
    "b_storage = np.array(max_storage[:-1])\n",
    "\n",
    "# Demand constraints matrix\n",
    "A_demand = np.zeros((n_periods * n_products, n_products * n_periods))\n",
    "for i in range(n_periods):\n",
    "    for j in range(n_products):\n",
    "        A_demand[i * n_products + j, i * n_products + j] = -1\n",
    "\n",
    "# Demand constraints RHS vector\n",
    "b_demand = -1 * np.array([d for period in demand for d in period])\n",
    "\n",
    "# Complete constraints matrix\n",
    "A = np.vstack([A_machine, A_labor, A_storage, A_demand])\n",
    "\n",
    "# Complete constraints RHS vector\n",
    "b = np.hstack([b_machine, b_labor, b_storage, b_demand])\n",
    "\n",
    "# Solve the linear programming problem\n",
    "res = linprog(c, A_ub=A, b_ub=b)\n",
    "\n",
    "# Display the results\n",
    "if res.success:\n",
    "    print(f'Optimal production plan: {res.x}')\n",
    "    print(f'Total profit: {-res.fun}')\n",
    "else:\n",
    "    print(f'{res.message}')"
   ]
  },
  {
   "cell_type": "code",
   "execution_count": 6,
   "metadata": {},
   "outputs": [
    {
     "name": "stdout",
     "output_type": "stream",
     "text": [
      "The problem is infeasible. (HiGHS Status 8: model_status is Infeasible; primal_status is At lower/fixed bound)\n"
     ]
    }
   ],
   "source": [
    "if res.success:\n",
    "    # Optimal production plan\n",
    "    x = res.x.reshape((n_periods, n_products))\n",
    "\n",
    "    # Machine time allocation\n",
    "    machine_time = np.zeros((n_machines, n_periods))\n",
    "    for i in range(n_machines):\n",
    "        for j in range(n_periods):\n",
    "            machine_time[i, j] = np.dot([machine1[i], machine2[i], 0], x[j])\n",
    "\n",
    "    # Display the results\n",
    "    print(f'Machine time allocation: {machine_time}')\n",
    "else:\n",
    "    print(f'{res.message}')\n"
   ]
  },
  {
   "cell_type": "markdown",
   "metadata": {},
   "source": [
    "تغییرات در پارامترهای در دسترس بودن دستگاه‌ها و نیروی کار می‌تواند بر راه‌حل مسئله تاثیر بگذارد. این تغییرات می‌تواند باعث شود که برنامه تولید بهینه تغییر کند و در نتیجه سود کل نیز تغییر کند.\n",
    "\n",
    "برای بررسی تاثیر این تغییرات، شما می‌توانید پارامترهای مربوطه را تغییر دهید و سپس مسئله را دوباره حل کنید. به عنوان مثال، فرض کنید که می‌خواهید ظرفیت دستگاه اول در دوره اول را از 100 به 80 کاهش دهید. برای این کار، می‌توانید پارامتر max_machine_time را به صورت زیر تغییر دهید:"
   ]
  },
  {
   "cell_type": "code",
   "execution_count": 7,
   "metadata": {},
   "outputs": [
    {
     "name": "stdout",
     "output_type": "stream",
     "text": [
      "The problem is infeasible. (HiGHS Status 8: model_status is Infeasible; primal_status is At lower/fixed bound)\n"
     ]
    }
   ],
   "source": [
    "# Change the machine capacity\n",
    "max_machine_time[0] = 80\n",
    "\n",
    "# Machine capacity constraints RHS vector\n",
    "b_machine = np.array(max_machine_time * n_periods)\n",
    "\n",
    "# Complete constraints RHS vector\n",
    "b = np.hstack([b_machine, b_labor, b_storage, b_demand])\n",
    "\n",
    "# Solve the linear programming problem again\n",
    "res = linprog(c, A_ub=A, b_ub=b)\n",
    "\n",
    "# Display the results\n",
    "if res.success:\n",
    "    print(f'New Optimal production plan: {res.x}')\n",
    "    print(f'New Total profit: {-res.fun}')\n",
    "else:\n",
    "    print(f'{res.message}')"
   ]
  }
 ],
 "metadata": {
  "kernelspec": {
   "display_name": "Python 3",
   "language": "python",
   "name": "python3"
  },
  "language_info": {
   "codemirror_mode": {
    "name": "ipython",
    "version": 3
   },
   "file_extension": ".py",
   "mimetype": "text/x-python",
   "name": "python",
   "nbconvert_exporter": "python",
   "pygments_lexer": "ipython3",
   "version": "3.11.2"
  },
  "orig_nbformat": 4
 },
 "nbformat": 4,
 "nbformat_minor": 2
}
