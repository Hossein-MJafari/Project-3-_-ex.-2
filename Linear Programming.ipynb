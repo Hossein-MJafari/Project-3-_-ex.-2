{
 "cells": [
  {
   "cell_type": "code",
   "execution_count": 21,
   "metadata": {},
   "outputs": [],
   "source": [
    "import numpy as np\n",
    "from scipy.optimize import linprog"
   ]
  },
  {
   "cell_type": "code",
   "execution_count": 22,
   "metadata": {},
   "outputs": [],
   "source": [
    "# Defining the Decision Variables\n",
    "# profits in $\n",
    "# x(period,product,machine)\n",
    "# x111, x112, x121, x122, ...\n",
    "objective = [-5, -5, -6, -6, -4, -4, -4, -4, -8, -8, -5, -5]\n"
   ]
  },
  {
   "cell_type": "code",
   "execution_count": 23,
   "metadata": {},
   "outputs": [],
   "source": [
    "# constraints\n",
    "# 1. first machine's production capacity in the 1st period\n",
    "# 2. first machine's production capacity in the 2nd period\n",
    "# 3. second machine's production capacity in the 1st period\n",
    "# 4. second machine's production capacity in the 2nd period\n",
    "# 5. first machine's available time in the 1st period\n",
    "# 6. first machine's available time in the 2nd period\n",
    "# 7. second machine's available time in the 1st period\n",
    "# 8. second machine's available time in the 2nd period\n",
    "# 9. labors in the 1st period\n",
    "# 10. labors in the 2nd period\n",
    "# 11. storage capacity in the 1st period\n",
    "# 12. storage capacity in the 2nd period\n",
    "# 13. product 1's demand in the 1st period\n",
    "# 14. product 1's demand in the 2nd period\n",
    "# 15. product 2's demand in the 1st period\n",
    "# 16. product 2's demand in the 2nd period\n",
    "# 17. product 3's demand in the 1st period\n",
    "# 18. product 3's demand in the 2nd period\n",
    "lhs = [[1,0,1,0,1,0,0,0,0,0,0,0],\n",
    "       [0,0,0,0,0,0,1,0,1,0,1,0],\n",
    "       [0,1,0,1,0,1,0,0,0,0,0,0],\n",
    "       [0,0,0,0,0,0,0,1,0,1,0,1],\n",
    "       [2,0,1.5,0,2.5,0,0,0,0,0,0,0],\n",
    "       [0,0,0,0,0,0,2,0,1.5,0,2.5,0],\n",
    "       [0,1.5,0,2,0,2,0,0,0,0,0,0],\n",
    "       [0,0,0,0,0,0,0,1.5,0,2,0,2],\n",
    "       [2,2,3,3,1,1,0,0,0,0,0,0],\n",
    "       [0,0,0,0,0,0,2,2,2,2,2,2],\n",
    "       [1,1,2,2,1,1,0,0,0,0,0,0],\n",
    "       [0,0,0,0,0,0,1,1,2,2,1,1],\n",
    "       [-1,-1,0,0,0,0,0,0,0,0,0,0],\n",
    "       [0,0,0,0,0,0,-1,-1,0,0,0,0],\n",
    "       [0,0,-1,-1,0,0,0,0,0,0,0,0],\n",
    "       [0,0,0,0,0,0,0,0,-1,-1,0,0],\n",
    "       [0,0,0,0,-1,-1,0,0,0,0,0,0],\n",
    "       [0,0,0,0,0,0,0,0,0,0,-1,-1]]"
   ]
  },
  {
   "cell_type": "code",
   "execution_count": 33,
   "metadata": {},
   "outputs": [],
   "source": [
    "# right hand-sides\n",
    "rhs = [1000, 1000, 1500, 1500, 300, 300, 300, 300, 100, 120, 100, 150, -5, -2, -10, -6, -2, -15]"
   ]
  },
  {
   "cell_type": "code",
   "execution_count": 34,
   "metadata": {},
   "outputs": [],
   "source": [
    "res = linprog(c=objective, A_ub=lhs, b_ub=rhs, bounds=[(0,None) for i in range(12)], method=\"highs\", integrality=1)"
   ]
  },
  {
   "cell_type": "code",
   "execution_count": 35,
   "metadata": {},
   "outputs": [
    {
     "name": "stdout",
     "output_type": "stream",
     "text": [
      "the maximum profit will be 752.0 with this values:\n",
      "[0.0, 5.0, 10.0, 0.0, 0.0, 60.0, 2.0, 0.0, 43.0, 0.0, 15.0, 0.0]\n"
     ]
    }
   ],
   "source": [
    "if res.status == 0:\n",
    "    print(f\"the maximum profit will be {-res.fun} with this values:\\n{list(res.x)}\")\n",
    "else:\n",
    "    print(f\"{res.message}\")"
   ]
  }
 ],
 "metadata": {
  "kernelspec": {
   "display_name": "Python 3",
   "language": "python",
   "name": "python3"
  },
  "language_info": {
   "codemirror_mode": {
    "name": "ipython",
    "version": 3
   },
   "file_extension": ".py",
   "mimetype": "text/x-python",
   "name": "python",
   "nbconvert_exporter": "python",
   "pygments_lexer": "ipython3",
   "version": "3.11.2"
  },
  "orig_nbformat": 4
 },
 "nbformat": 4,
 "nbformat_minor": 2
}
