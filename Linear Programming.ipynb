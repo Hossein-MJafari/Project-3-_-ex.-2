{
 "cells": [
  {
   "cell_type": "code",
   "execution_count": 123,
   "metadata": {},
   "outputs": [],
   "source": [
    "import numpy as np\n",
    "from scipy.optimize import linprog"
   ]
  },
  {
   "cell_type": "code",
   "execution_count": 124,
   "metadata": {},
   "outputs": [],
   "source": [
    "# Defining the Decision Variables\n",
    "# profits in $\n",
    "# x(period,product,machine)\n",
    "# x111, x112, x121, x122, ...\n",
    "objective = [-5, -5, -4, -4, -6, -6, -7, -7, -5, -5, -5, -5]\n"
   ]
  },
  {
   "cell_type": "code",
   "execution_count": 125,
   "metadata": {},
   "outputs": [],
   "source": [
    "# constraints\n",
    "# 1. first machine's production capacity in the 1st period\n",
    "# 2. first machine's production capacity in the 2nd period\n",
    "# 3. second machine's production capacity in the 1st period\n",
    "# 4. second machine's production capacity in the 2nd period\n",
    "# 5. first machine's available time in the 1st period\n",
    "# 6. first machine's available time in the 2nd period\n",
    "# 7. second machine's available time in the 1st period\n",
    "# 8. second machine's available time in the 2nd period\n",
    "# 9. labors in the 1st period\n",
    "# 10. labors in the 2nd period\n",
    "# 11. storage capacity in the 1st period\n",
    "# 12. storage capacity in the 2nd period\n",
    "# 13. product 1's demand in the 1st period\n",
    "# 14. product 1's demand in the 2nd period\n",
    "# 15. product 2's demand in the 1st period\n",
    "# 16. product 2's demand in the 2nd period\n",
    "# 17. product 3's demand in the 1st period\n",
    "# 18. product 3's demand in the 2nd period\n",
    "lhs = [[1,0,1,0,1,0,0,0,0,0,0,0],\n",
    "       [0,0,0,0,0,0,1,0,1,0,1,0],\n",
    "       [0,1,0,1,0,1,0,0,0,0,0,0],\n",
    "       [0,0,0,0,0,0,0,1,0,1,0,1],\n",
    "       [2,0,1.5,0,2.5,0,0,0,0,0,0,0],\n",
    "       [0,0,0,0,0,0,2,0,1.5,0,2.5,0],\n",
    "       [0,1.5,0,2,0,2,0,0,0,0,0,0],\n",
    "       [0,0,0,0,0,0,0,1.5,0,2,0,2],\n",
    "       [2,2,3,3,1,1,0,0,0,0,0,0],\n",
    "       [0,0,0,0,0,0,2,2,3,3,1,1],\n",
    "       [1,1,2,2,1,1,0,0,0,0,0,0],\n",
    "       [0,0,0,0,0,0,1,1,2,2,1,1],\n",
    "       [-1,-1,0,0,0,0,0,0,0,0,0,0],\n",
    "       [0,0,0,0,0,0,-1,-1,0,0,0,0],\n",
    "       [0,0,-1,-1,0,0,0,0,0,0,0,0],\n",
    "       [0,0,0,0,0,0,0,0,-1,-1,0,0],\n",
    "       [0,0,0,0,-1,-1,0,0,0,0,0,0],\n",
    "       [0,0,0,0,0,0,0,0,0,0,-1,-1]]"
   ]
  },
  {
   "cell_type": "code",
   "execution_count": 126,
   "metadata": {},
   "outputs": [],
   "source": [
    "# right hand-sides\n",
    "rhs = [100, 100, 150, 150, 300, 480, 500, 450, 150, 180, 200, 250, -20, -15, -20, -15, -15, -15]"
   ]
  },
  {
   "cell_type": "code",
   "execution_count": 127,
   "metadata": {},
   "outputs": [],
   "source": [
    "res = linprog(c=objective, A_ub=lhs, b_ub=rhs, bounds=[(0,None) for i in range(12)], method=\"highs\", integrality=1)"
   ]
  },
  {
   "cell_type": "code",
   "execution_count": 128,
   "metadata": {},
   "outputs": [
    {
     "name": "stdout",
     "output_type": "stream",
     "text": [
      "the maximum profit will be 1185.0 $ with these values:\n",
      "[0.0, 20.0, 0.0, 20.0, 0.0, 50.0, 15.0, 0.0, 0.0, 15.0, 85.0, 20.0]\n"
     ]
    }
   ],
   "source": [
    "if res.status == 0:\n",
    "    print(f\"the maximum profit will be {-res.fun} $ with these values:\\n{list(res.x)}\")\n",
    "else:\n",
    "    print(f\"{res.message}\")"
   ]
  }
 ],
 "metadata": {
  "kernelspec": {
   "display_name": "Python 3",
   "language": "python",
   "name": "python3"
  },
  "language_info": {
   "codemirror_mode": {
    "name": "ipython",
    "version": 3
   },
   "file_extension": ".py",
   "mimetype": "text/x-python",
   "name": "python",
   "nbconvert_exporter": "python",
   "pygments_lexer": "ipython3",
   "version": "3.11.2"
  },
  "orig_nbformat": 4
 },
 "nbformat": 4,
 "nbformat_minor": 2
}
