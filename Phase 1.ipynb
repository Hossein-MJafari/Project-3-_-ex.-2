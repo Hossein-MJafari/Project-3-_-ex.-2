{
 "cells": [
  {
   "cell_type": "code",
   "execution_count": 2,
   "metadata": {},
   "outputs": [],
   "source": [
    "# importing all needed libraries\n",
    "import pandas as pd\n",
    "import numpy as np\n",
    "import matplotlib.pyplot as plt\n",
    "import yfinance as yf"
   ]
  },
  {
   "cell_type": "code",
   "execution_count": 3,
   "metadata": {},
   "outputs": [],
   "source": [
    "# getting the information needed from yahoo finance\n",
    "# this includes Microsoft and Sony's stock shares\n",
    "msft = yf.Ticker(\"MSFT\")\n",
    "sony = yf.Ticker(\"SONY\")\n",
    "\n",
    "msftDF = msft.history(period='1d', start='2010-1-1', end='2022-1-25')\n",
    "sonyDF = sony.history(period='1d', start='2010-1-1', end='2022-1-25')\n",
    "\n",
    "msftDF.to_csv(\"msft.csv\")\n",
    "sonyDF.to_csv(\"sony.csv\")\n"
   ]
  },
  {
   "cell_type": "code",
   "execution_count": 13,
   "metadata": {},
   "outputs": [],
   "source": [
    "# getting daily data on 'business days only' in both time series\n",
    "msftDF = msftDF.asfreq('B')\n",
    "sonyDF = sonyDF.asfreq('B')\n",
    "\n",
    "# dealing with the NaN\n",
    "# we will use linear interpolation becuase it estimates the values based on near values\n",
    "msftDF = msftDF.interpolate()\n",
    "sonyDF = sonyDF.interpolate()\n",
    "\n",
    "# we also drop Dividends and Stock Splits becuase they're all zero!\n",
    "msftDF = msftDF.drop([\"Dividends\", \"Stock Splits\"], axis=1)\n",
    "sonyDF = sonyDF.drop([\"Dividends\", \"Stock Splits\"], axis=1)"
   ]
  },
  {
   "cell_type": "code",
   "execution_count": 14,
   "metadata": {},
   "outputs": [],
   "source": [
    "# re-indexing both time series to match the same time periods\n",
    "common_date_range = msftDF.index.union(sonyDF.index)\n",
    "msftDF = msftDF.reindex(common_date_range)\n",
    "sonyDF = sonyDF.reindex(common_date_range)"
   ]
  },
  {
   "cell_type": "code",
   "execution_count": 17,
   "metadata": {},
   "outputs": [],
   "source": [
    "# Data Normalization\n",
    "# we will use Z-score normalization for this data becuase we're using the financial data of two companies to predict their future performance\n",
    "# this method scales the data to have zero mean and unit variance.\n",
    "msftDF_normalized = (msftDF - msftDF.mean()) / msftDF.std()\n",
    "sonyDF_normalized = (sonyDF - sonyDF.mean()) / sonyDF.std()\n",
    "\n"
   ]
  },
  {
   "cell_type": "code",
   "execution_count": 23,
   "metadata": {},
   "outputs": [],
   "source": [
    "# Stationarity Transformation by differencing\n",
    "msftDF_diff = msftDF.diff()\n",
    "sonyDF_diff = sonyDF.diff()"
   ]
  }
 ],
 "metadata": {
  "kernelspec": {
   "display_name": "Python 3",
   "language": "python",
   "name": "python3"
  },
  "language_info": {
   "codemirror_mode": {
    "name": "ipython",
    "version": 3
   },
   "file_extension": ".py",
   "mimetype": "text/x-python",
   "name": "python",
   "nbconvert_exporter": "python",
   "pygments_lexer": "ipython3",
   "version": "3.11.2"
  },
  "orig_nbformat": 4
 },
 "nbformat": 4,
 "nbformat_minor": 2
}
