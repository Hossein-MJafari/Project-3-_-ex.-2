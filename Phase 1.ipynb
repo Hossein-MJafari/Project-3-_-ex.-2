{
 "cells": [
  {
   "cell_type": "code",
   "execution_count": 37,
   "metadata": {},
   "outputs": [],
   "source": [
    "import pandas as pd\n",
    "import numpy as np\n",
    "import matplotlib.pyplot as plt\n",
    "import yfinance as yf"
   ]
  },
  {
   "cell_type": "code",
   "execution_count": 40,
   "metadata": {},
   "outputs": [],
   "source": [
    "msft = yf.Ticker(\"MSFT\")\n",
    "sony = yf.Ticker(\"SONY\")\n",
    "\n",
    "# print(msft.info)\n",
    "# print(sony.info)\n",
    "\n",
    "msftDF = msft.history(period='1d', start='2010-1-1', end='2022-1-25')\n",
    "sonyDF = sony.history(period='1d', start='2010-1-1', end='2022-1-25')\n",
    "\n",
    "msftDF.to_csv(\"msft.csv\")\n",
    "sonyDF.to_csv(\"sony.csv\")\n"
   ]
  },
  {
   "cell_type": "code",
   "execution_count": null,
   "metadata": {},
   "outputs": [],
   "source": []
  }
 ],
 "metadata": {
  "kernelspec": {
   "display_name": "Python 3",
   "language": "python",
   "name": "python3"
  },
  "language_info": {
   "codemirror_mode": {
    "name": "ipython",
    "version": 3
   },
   "file_extension": ".py",
   "mimetype": "text/x-python",
   "name": "python",
   "nbconvert_exporter": "python",
   "pygments_lexer": "ipython3",
   "version": "3.11.2"
  },
  "orig_nbformat": 4
 },
 "nbformat": 4,
 "nbformat_minor": 2
}
